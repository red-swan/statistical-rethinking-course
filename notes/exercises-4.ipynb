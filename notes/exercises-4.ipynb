{
 "cells": [
  {
   "cell_type": "code",
   "execution_count": 1,
   "metadata": {},
   "outputs": [
    {
     "name": "stderr",
     "output_type": "stream",
     "text": [
      "Loading required package: rstan\n",
      "\n",
      "Loading required package: StanHeaders\n",
      "\n",
      "rstan (Version 2.19.3, GitRev: 2e1f913d3ca3)\n",
      "\n",
      "For execution on a local, multicore CPU with excess RAM we recommend calling\n",
      "options(mc.cores = parallel::detectCores()).\n",
      "To avoid recompilation of unchanged Stan programs, we recommend calling\n",
      "rstan_options(auto_write = TRUE)\n",
      "\n",
      "For improved execution time, we recommend calling\n",
      "Sys.setenv(LOCAL_CPPFLAGS = '-march=corei7 -mtune=corei7')\n",
      "although this causes Stan to throw an error on a few processors.\n",
      "\n",
      "\n",
      "Attaching package: 'rstan'\n",
      "\n",
      "\n",
      "The following object is masked from 'package:magrittr':\n",
      "\n",
      "    extract\n",
      "\n",
      "\n",
      "Loading required package: parallel\n",
      "\n",
      "Loading required package: dagitty\n",
      "\n",
      "rethinking (Version 2.00)\n",
      "\n",
      "\n",
      "Attaching package: 'rethinking'\n",
      "\n",
      "\n",
      "The following object is masked from 'package:purrr':\n",
      "\n",
      "    map\n",
      "\n",
      "\n",
      "The following object is masked from 'package:stats':\n",
      "\n",
      "    rstudent\n",
      "\n",
      "\n"
     ]
    }
   ],
   "source": [
    "library(swanR)\n",
    "library(stringr)\n",
    "library(purrr)\n",
    "library(magrittr)\n",
    "library(data.table)\n",
    "library(lubridate)\n",
    "library(ggplot2)\n",
    "library(openxlsx)\n",
    "library(xts)\n",
    "library(zoo)\n",
    "library(microbenchmark)\n",
    "library(rethinking)\n",
    "data(Howell1)\n",
    "d <- Howell1 %>% as.data.table\n",
    "d2 <- d[18 <= age]"
   ]
  },
  {
   "cell_type": "markdown",
   "metadata": {},
   "source": [
    "# Easy\n",
    "## 4E1\n",
    "In the model definition below, which line is the likelihood?\n",
    "\n",
    "\\begin{align}\n",
    "y_i & \\sim \\mathit{Normal}(\\mu; \\sigma) \\\\\n",
    "\\mu & \\sim \\mathit{Normal}(0, 10) \\\\\n",
    "\\sigma & \\sim \\mathit{Uniform}(0, 10) \\\\\n",
    "\\end{align}"
   ]
  },
  {
   "cell_type": "markdown",
   "metadata": {},
   "source": [
    "The $y_i$ line"
   ]
  },
  {
   "cell_type": "markdown",
   "metadata": {},
   "source": [
    "## 4E2\n",
    "In the model definition just above, how many parameters are in the posterior distribution?"
   ]
  },
  {
   "cell_type": "markdown",
   "metadata": {},
   "source": [
    "Two, mu and sigma."
   ]
  },
  {
   "cell_type": "markdown",
   "metadata": {},
   "source": [
    "## 4E3\n",
    "Using the model definition above, write down the appropriate form of Bayes’ theorem that includes the proper likelihood and priors."
   ]
  },
  {
   "cell_type": "markdown",
   "metadata": {},
   "source": [
    "$Pr(y|\\mu,\\sigma) \\sim \\frac{Normal(y|\\mu,\\sigma) Normal(\\mu|0,10) Uniform(\\sigma | 0,10)}{\\int Normal(y|\\mu,\\sigma) Normal(\\mu|0,10) Uniform(\\sigma | 0,10) dy}$"
   ]
  },
  {
   "cell_type": "markdown",
   "metadata": {},
   "source": [
    "## 4E4\n",
    "In the model definition below, which line is the linear model?\n",
    "\\begin{align}\n",
    "y_i & \\sim \\mathit{Normal}(\\mu, \\sigma) \\\\\n",
    "\\mu_i & = \\alpha + \\beta x_i \\\\\n",
    "\\alpha & \\sim \\mathit{Normal}(0,10) \\\\\n",
    "\\beta & \\sim \\mathit{Normal}(0,1) \\\\\n",
    "\\sigma & \\sim \\mathit{Uniform}(0, 10) \\\\\n",
    "\\end{align}"
   ]
  },
  {
   "cell_type": "markdown",
   "metadata": {},
   "source": [
    "The second, $\\mu$ line"
   ]
  },
  {
   "cell_type": "markdown",
   "metadata": {},
   "source": [
    "## 4E5\n",
    "In the model definition just above, how many parameters are in the posterior distribution?"
   ]
  },
  {
   "cell_type": "markdown",
   "metadata": {},
   "source": [
    "Three: $\\mu$, $\\beta$, and $\\sigma$"
   ]
  },
  {
   "cell_type": "markdown",
   "metadata": {},
   "source": [
    "# Medium"
   ]
  },
  {
   "cell_type": "markdown",
   "metadata": {},
   "source": [
    "## 4M1\n",
    "For the model definition below, simulate observed heights from the prior (not the posterior).\n",
    "\n",
    "\\begin{align}\n",
    "y_i & \\sim \\mathit{Normal}(\\mu,\\sigma) \\\\\n",
    "\\mu & \\sim \\mathit{Normal}(0,10) \\\\\n",
    "\\sigma & \\sim \\mathit{Uniform}(0,10) \\\\\n",
    "\\end{align}"
   ]
  },
  {
   "cell_type": "code",
   "execution_count": 2,
   "metadata": {},
   "outputs": [
    {
     "data": {
      "image/png": "[encoded data removed]",
      "text/plain": [
       "Plot with title \"\""
      ]
     },
     "metadata": {
      "image/png": {
       "height": 420,
       "width": 420
      },
      "text/plain": {
       "height": 420,
       "width": 420
      }
     },
     "output_type": "display_data"
    }
   ],
   "source": [
    "n <- 1e4\n",
    "prior_samples <- rnorm(n, rnorm(n, 0, 10), runif(n,0,10))\n",
    "dens(prior_samples)"
   ]
  },
  {
   "cell_type": "markdown",
   "metadata": {},
   "source": [
    "## 4M2\n",
    "Translate the model just above into a map formula"
   ]
  },
  {
   "cell_type": "code",
   "execution_count": 3,
   "metadata": {},
   "outputs": [],
   "source": [
    "m4m2 <- \n",
    "  alist(\n",
    "    height ~ dnorm(mu, sigma),\n",
    "    mu ~ dnorm(0, 10),\n",
    "    sigma ~ dunif(0, 10)\n",
    "  ) %>% \n",
    "  map(d2)"
   ]
  },
  {
   "cell_type": "markdown",
   "metadata": {},
   "source": [
    "## 4M3\n",
    "\n",
    "Translate the map model formula below into a mathematical model definition.\n",
    "```{r}\n",
    "flist <- alist(\n",
    "    y ~ dnorm( mu , sigma ),\n",
    "    mu <- a + b*x,\n",
    "    a ~ dnorm( 0 , 50 ),\n",
    "    b ~ dunif( 0 , 10 ),\n",
    "    sigma ~ dunif( 0 , 50 )\n",
    ")\n",
    "```"
   ]
  },
  {
   "cell_type": "markdown",
   "metadata": {},
   "source": [
    "\\begin{align}\n",
    "y_i & \\sim \\mathit{Normal}(\\mu_i,\\sigma) \\\\\n",
    "\\mu_i & = \\alpha + \\beta x_i \\\\\n",
    "\\alpha & \\sim \\mathit{Normal}(0,50) \\\\ \n",
    "\\beta & \\sim \\mathit{Uniform}(0,10) \\\\\n",
    "\\sigma & \\sim \\mathit{Uniform}(0,50)\n",
    "\\end{align}"
   ]
  },
  {
   "cell_type": "markdown",
   "metadata": {},
   "source": [
    "## 4M4\n",
    "A sample of students is measured for height each year for 3 years. After the third year, you want\n",
    "to fit a linear regression predicting height using year as a predictor. Write down the mathematical\n",
    "model definition for this regression, using any variable names and priors you choose. Be prepared to\n",
    "defend your choice of priors."
   ]
  },
  {
   "cell_type": "markdown",
   "metadata": {},
   "source": [
    "\\begin{align}\n",
    "h_i & \\sim \\mathit{Normal}(\\mu_i,\\sigma) \\\\\n",
    "\\mu_i & = \\alpha + \\beta x_i \\\\\n",
    "\\alpha & \\sim \\mathit{Normal}(165,100) \\\\\n",
    "\\beta & \\sim \\mathit{Normal}(0,10) \\\\\n",
    "\\sigma & \\sim \\mathit{Uniform}(0,50) \\\\\n",
    "\\end{align}"
   ]
  },
  {
   "cell_type": "markdown",
   "metadata": {},
   "source": [
    "## 4M5\n",
    "Now suppose I tell you that the average height in the first year was 120 cm and that every\n",
    "student got taller each year. Does this information lead you to change your choice of priors? How?"
   ]
  },
  {
   "cell_type": "markdown",
   "metadata": {},
   "source": [
    "\\begin{align}\n",
    "\\alpha & \\sim \\mathit{Normal}(135,30) \\\\\n",
    "\\beta & \\sim \\mathit{Normal}(8,20) \\\\\n",
    "\\end{align}"
   ]
  },
  {
   "cell_type": "markdown",
   "metadata": {},
   "source": [
    "## 4M6\n",
    "Now suppose I tell you that the variance among heights for students of the same age is never\n",
    "more than 64cm. How does this lead you to revise your priors?"
   ]
  },
  {
   "cell_type": "markdown",
   "metadata": {},
   "source": [
    "\\begin{align}\n",
    "\\sigma & \\sim \\mathit{Uniform}(0,64) \\\\\n",
    "\\end{align}"
   ]
  },
  {
   "cell_type": "markdown",
   "metadata": {},
   "source": [
    "# Hard"
   ]
  },
  {
   "cell_type": "markdown",
   "metadata": {},
   "source": [
    "## 4H1\n",
    "The weights listed below were recorded in the !Kung census, but heights were not recorded for\n",
    "these individuals. Provide predicted heights and 89% intervals (either HPDI or PI) for each of these\n",
    "individuals. That is, fill in the table below, using model-based predictions.\n",
    "\n",
    "| Individual | weight | expected height | 89% interval |\n",
    "| :--- | :--- | :--- | :--- |\n",
    "| 1 | 46.95 |  | |\n",
    "| 2 | 43.72 |  | |\n",
    "| 3 | 64.78 |  | |\n",
    "| 4 | 32.59 |  | |\n",
    "| 5 | 54.63 |  | |\n"
   ]
  },
  {
   "cell_type": "code",
   "execution_count": 4,
   "metadata": {},
   "outputs": [
    {
     "data": {
      "text/html": [
       "<table>\n",
       "<caption>A data.table: 5 × 4</caption>\n",
       "<thead>\n",
       "\t<tr><th scope=col>individual</th><th scope=col>weight</th><th scope=col>expected height</th><th scope=col>89% interval</th></tr>\n",
       "\t<tr><th scope=col>&lt;int&gt;</th><th scope=col>&lt;dbl&gt;</th><th scope=col>&lt;dbl&gt;</th><th scope=col>&lt;chr&gt;</th></tr>\n",
       "</thead>\n",
       "<tbody>\n",
       "\t<tr><td>1</td><td>46.95</td><td>156.3714</td><td>155.92 - 156.84</td></tr>\n",
       "\t<tr><td>2</td><td>43.72</td><td>153.4481</td><td>153.02 - 153.89</td></tr>\n",
       "\t<tr><td>3</td><td>64.78</td><td>172.5088</td><td>171.13 - 173.91</td></tr>\n",
       "\t<tr><td>4</td><td>32.59</td><td>143.3747</td><td>142.48 - 144.33</td></tr>\n",
       "\t<tr><td>5</td><td>54.63</td><td>163.3223</td><td>162.55 - 164.1 </td></tr>\n",
       "</tbody>\n",
       "</table>\n"
      ],
      "text/latex": [
       "A data.table: 5 × 4\n",
       "\\begin{tabular}{llll}\n",
       " individual & weight & expected height & 89\\% interval\\\\\n",
       " <int> & <dbl> & <dbl> & <chr>\\\\\n",
       "\\hline\n",
       "\t 1 & 46.95 & 156.3714 & 155.92 - 156.84\\\\\n",
       "\t 2 & 43.72 & 153.4481 & 153.02 - 153.89\\\\\n",
       "\t 3 & 64.78 & 172.5088 & 171.13 - 173.91\\\\\n",
       "\t 4 & 32.59 & 143.3747 & 142.48 - 144.33\\\\\n",
       "\t 5 & 54.63 & 163.3223 & 162.55 - 164.1 \\\\\n",
       "\\end{tabular}\n"
      ],
      "text/markdown": [
       "\n",
       "A data.table: 5 × 4\n",
       "\n",
       "| individual &lt;int&gt; | weight &lt;dbl&gt; | expected height &lt;dbl&gt; | 89% interval &lt;chr&gt; |\n",
       "|---|---|---|---|\n",
       "| 1 | 46.95 | 156.3714 | 155.92 - 156.84 |\n",
       "| 2 | 43.72 | 153.4481 | 153.02 - 153.89 |\n",
       "| 3 | 64.78 | 172.5088 | 171.13 - 173.91 |\n",
       "| 4 | 32.59 | 143.3747 | 142.48 - 144.33 |\n",
       "| 5 | 54.63 | 163.3223 | 162.55 - 164.1  |\n",
       "\n"
      ],
      "text/plain": [
       "  individual weight expected height 89% interval   \n",
       "1 1          46.95  156.3714        155.92 - 156.84\n",
       "2 2          43.72  153.4481        153.02 - 153.89\n",
       "3 3          64.78  172.5088        171.13 - 173.91\n",
       "4 4          32.59  143.3747        142.48 - 144.33\n",
       "5 5          54.63  163.3223        162.55 - 164.1 "
      ]
     },
     "metadata": {},
     "output_type": "display_data"
    }
   ],
   "source": [
    "m4h1 <-\n",
    "  alist(\n",
    "    height ~ dnorm(mu,sigma),\n",
    "    mu <- a + b * weight,\n",
    "    a ~ dnorm(156,100),\n",
    "    b ~ dnorm(0,10),\n",
    "    sigma ~ dunif(0,50)\n",
    "  ) %>% \n",
    "  map(d2)\n",
    "\n",
    "missingPeople <- \n",
    "  data.table( individual = 1:5,\n",
    "              weight = c(46.95, 43.72, 64.78, 32.59, 54.63))\n",
    "\n",
    "mu <- link(m4h1, missingPeople, 1e4)\n",
    "\n",
    "missingPeople[ , `expected height` := apply( mu , 2 , mean )]\n",
    "missingPeople[ , `89% interval` := \n",
    "                      apply( mu , 2 , HPDI , prob=0.89 ) %>% \n",
    "                      apply(2, round, digits = 2) %>% \n",
    "                      apply(2, str_c, collapse = \" - \")]\n",
    "\n",
    "missingPeople"
   ]
  },
  {
   "cell_type": "markdown",
   "metadata": {},
   "source": [
    "## 4H2\n",
    "Select out all the rows in the Howell1 data with ages below 18 years of age. If you do it right,\n",
    "you should end up with a new data frame with 192 rows in it. \n",
    "\n",
    "1. Fit a linear regression to these data, using map. Present and interpret the estimates. For every\n",
    "10 units of increase in weight, how much taller does the model predict a child gets?"
   ]
  },
  {
   "cell_type": "code",
   "execution_count": 5,
   "metadata": {},
   "outputs": [
    {
     "data": {
      "text/html": [
       "<table>\n",
       "<caption>A precis: 3 × 4</caption>\n",
       "<thead>\n",
       "\t<tr><th></th><th scope=col>mean</th><th scope=col>sd</th><th scope=col>5.5%</th><th scope=col>94.5%</th></tr>\n",
       "\t<tr><th></th><th scope=col>&lt;dbl&gt;</th><th scope=col>&lt;dbl&gt;</th><th scope=col>&lt;dbl&gt;</th><th scope=col>&lt;dbl&gt;</th></tr>\n",
       "</thead>\n",
       "<tbody>\n",
       "\t<tr><th scope=row>a</th><td>58.242518</td><td>1.39698726</td><td>56.009863</td><td>60.475174</td></tr>\n",
       "\t<tr><th scope=row>b</th><td> 2.719533</td><td>0.06828268</td><td> 2.610404</td><td> 2.828662</td></tr>\n",
       "\t<tr><th scope=row>sigma</th><td> 8.436760</td><td>0.43051043</td><td> 7.748721</td><td> 9.124799</td></tr>\n",
       "</tbody>\n",
       "</table>\n"
      ],
      "text/latex": [
       "A precis: 3 × 4\n",
       "\\begin{tabular}{r|llll}\n",
       "  & mean & sd & 5.5\\% & 94.5\\%\\\\\n",
       "  & <dbl> & <dbl> & <dbl> & <dbl>\\\\\n",
       "\\hline\n",
       "\ta & 58.242518 & 1.39698726 & 56.009863 & 60.475174\\\\\n",
       "\tb &  2.719533 & 0.06828268 &  2.610404 &  2.828662\\\\\n",
       "\tsigma &  8.436760 & 0.43051043 &  7.748721 &  9.124799\\\\\n",
       "\\end{tabular}\n"
      ],
      "text/markdown": [
       "\n",
       "A precis: 3 × 4\n",
       "\n",
       "| <!--/--> | mean &lt;dbl&gt; | sd &lt;dbl&gt; | 5.5% &lt;dbl&gt; | 94.5% &lt;dbl&gt; |\n",
       "|---|---|---|---|---|\n",
       "| a | 58.242518 | 1.39698726 | 56.009863 | 60.475174 |\n",
       "| b |  2.719533 | 0.06828268 |  2.610404 |  2.828662 |\n",
       "| sigma |  8.436760 | 0.43051043 |  7.748721 |  9.124799 |\n",
       "\n"
      ],
      "text/plain": [
       "      mean      sd         5.5%      94.5%    \n",
       "a     58.242518 1.39698726 56.009863 60.475174\n",
       "b      2.719533 0.06828268  2.610404  2.828662\n",
       "sigma  8.436760 0.43051043  7.748721  9.124799"
      ]
     },
     "metadata": {},
     "output_type": "display_data"
    }
   ],
   "source": [
    "d3 <- d[age < 18]\n",
    "m4h2 <-\n",
    "  alist(\n",
    "    height ~ dnorm(mu,sigma),\n",
    "    mu <- a + b * weight,\n",
    "    a ~ dnorm(108,100),\n",
    "    b ~ dnorm(0,10),\n",
    "    sigma ~ dunif(0,50)\n",
    "  ) %>% \n",
    "  map(d3)\n",
    "precis(m4h2)"
   ]
  },
  {
   "cell_type": "markdown",
   "metadata": {},
   "source": [
    "This model predicts that for every 10 kg (22 lbs) a child gains, their expected height increases by 27 cm (10 inches)"
   ]
  },
  {
   "cell_type": "markdown",
   "metadata": {},
   "source": [
    "2. Plot the raw data, with height on the vertical axis and weight on the horizontal axis. Superimpose\n",
    "the MAP regression line and 89% HPDI for the mean. Also superimpose the 89% HPDI for\n",
    "predicted heights."
   ]
  },
  {
   "cell_type": "code",
   "execution_count": 6,
   "metadata": {},
   "outputs": [
    {
     "data": {
      "image/png": "[encoded data removed]",
      "text/plain": [
       "plot without title"
      ]
     },
     "metadata": {
      "image/png": {
       "height": 420,
       "width": 420
      },
      "text/plain": {
       "height": 420,
       "width": 420
      }
     },
     "output_type": "display_data"
    }
   ],
   "source": [
    "# build a sequence of weights to simulate\n",
    "weightSeq <- seq(0,45,5)\n",
    "\n",
    "# build the expected heights for our weights\n",
    "mu <- link(m4h2, data.frame(weight = weightSeq), 1e4)\n",
    "muMean <- apply(mu,2,mean)\n",
    "muHPDI <- apply(mu,2,HPDI)\n",
    "\n",
    "# build the height predictions for our weights \n",
    "simHeight <- sim(m4h2, list(weight = weightSeq))\n",
    "heightPI <- apply(simHeight, 2, PI, prob = 0.89)\n",
    "\n",
    "# plot the heights of the children\n",
    "plot(height ~ weight, d3, col = col.alpha(rangi2, 0.5))\n",
    "# add the expected means\n",
    "lines( weightSeq , muMean )\n",
    "# plot a shaded region for 89% HPDI\n",
    "shade( muHPDI , weightSeq )\n",
    "# draw PI region for simulated heights\n",
    "shade( heightPI , weightSeq )"
   ]
  },
  {
   "cell_type": "markdown",
   "metadata": {},
   "source": [
    "3. What aspects of the model fit concern you? Describe the kinds of assumptions you would\n",
    "change, if any, to improve the model. You don’t have to write any new code. Just explain what the\n",
    "model appears to be doing a bad job of, and what you hypothesize would be a better model."
   ]
  },
  {
   "cell_type": "markdown",
   "metadata": {},
   "source": [
    "The data has a steep increase at the beginning and a becomes more gradual at the end. This curvature isn't modelled in our linear model and indeed, many data points fall outside our prediction distribution. A model that accounts for this curvature or puberty/infant status would perhaps improve things."
   ]
  },
  {
   "cell_type": "markdown",
   "metadata": {},
   "source": [
    "## 4H3 \n",
    "Suppose a colleague of yours, who works on allometry, glances at the practice problems just\n",
    "above. Your colleague exclaims, “That’s silly. Everyone knows that it’s only the logarithm of body\n",
    "weight that scales with height!” Let’s take your colleague’s advice and see what happens.\n",
    "\n",
    "1. Model the relationship between height (cm) and the natural logarithm of weight (log-kg). Use\n",
    "the entire Howell1 data frame, all 544 rows, adults and non-adults. Fit this model, using quadratic\n",
    "approximation:"
   ]
  },
  {
   "cell_type": "markdown",
   "metadata": {},
   "source": [
    "\\begin{align}\n",
    "h_i & \\sim \\mathit{Normal}(\\mu_i, \\sigma) \\\\\n",
    "\\mu_i & = \\alpha + \\beta \\log (w_i) \\\\\n",
    "\\alpha & \\sim \\mathit{Normal}(178,100) \\\\\n",
    "\\beta & \\sim \\mathit{Normal}(0,100) \\\\\n",
    "\\sigma & \\sim \\mathit{Uniform}(0,50)\\\\\n",
    "\\end{align}"
   ]
  },
  {
   "cell_type": "markdown",
   "metadata": {},
   "source": [
    "where $h_i$ is the height of individual $i$ and $w_i$ is the weight (in kg) of individual $i$. The function for\n",
    "computing a natural log in R is just log. Can you interpret the resulting estimates?"
   ]
  },
  {
   "cell_type": "code",
   "execution_count": 7,
   "metadata": {},
   "outputs": [
    {
     "data": {
      "text/plain": [
       "\n",
       "Quadratic approximate posterior distribution\n",
       "\n",
       "Formula:\n",
       "height ~ dnorm(mu, sigma)\n",
       "mu <- a + b * log(weight)\n",
       "a ~ dnorm(178, 100)\n",
       "b ~ dnorm(0, 100)\n",
       "sigma ~ dunif(0, 50)\n",
       "\n",
       "Posterior means:\n",
       "         a          b      sigma \n",
       "-23.784242  47.075309   5.134695 \n",
       "\n",
       "Log-likelihood: -1661.9 "
      ]
     },
     "metadata": {},
     "output_type": "display_data"
    }
   ],
   "source": [
    "m4h3 <-\n",
    "  alist(\n",
    "    height ~ dnorm(mu,sigma),\n",
    "    mu <- a + b * log(weight),\n",
    "    a ~ dnorm(178,100),\n",
    "    b ~ dnorm(0,100),\n",
    "    sigma ~ dunif(0,50)\n",
    "  ) %>% \n",
    "  map(d)\n",
    "m4h3"
   ]
  },
  {
   "cell_type": "markdown",
   "metadata": {},
   "source": [
    "On average, these peoples' heights are expected to increase by 47cm (18.5in) every time their body weight near triples (x2.7)"
   ]
  },
  {
   "cell_type": "markdown",
   "metadata": {},
   "source": [
    "2. Begin with this plot:\n",
    "```{R}\n",
    "plot( height ~ weight , data=Howell1, col=col.alpha(rangi2,0.4) )\n",
    "```\n",
    "Then use samples from the quadratic approximate posterior of the model in (1) above to superimpose on the plot: \n",
    "\n",
    "  1. the predicted mean height as a function of weight\n",
    "  2. the 97% HPDI for the mean, and\n",
    "  3. the 97% HPDI for predicted heights."
   ]
  },
  {
   "cell_type": "code",
   "execution_count": 8,
   "metadata": {},
   "outputs": [
    {
     "data": {
      "image/png": "[encoded data removed]",
      "text/plain": [
       "plot without title"
      ]
     },
     "metadata": {
      "image/png": {
       "height": 420,
       "width": 420
      },
      "text/plain": {
       "height": 420,
       "width": 420
      }
     },
     "output_type": "display_data"
    }
   ],
   "source": [
    "# build a sequence of weights to simulate\n",
    "weightSeq <- exp(seq(1.2,4.2,0.25))\n",
    "\n",
    "# build the expected heights for our weights\n",
    "mu <- link(m4h3, data.frame(weight = weightSeq), 1e4)\n",
    "muMean <- apply(mu,2,mean)\n",
    "muHPDI <- apply(mu,2,HPDI, prob = 0.97)\n",
    "\n",
    "# build the height predictions for our weights \n",
    "simHeight <- sim(m4h3, list(weight = weightSeq))\n",
    "heightPI <- apply(simHeight, 2, PI, prob = 0.97)\n",
    "\n",
    "# plot the population's heights\n",
    "plot( height ~ weight , data=Howell1, col=col.alpha(rangi2,0.4) )\n",
    "# add the expected heights for each weight\n",
    "lines( weightSeq , muMean )\n",
    "# plot a shaded region for 89% HPDI\n",
    "shade( muHPDI , weightSeq )\n",
    "# draw PI region for simulated heights\n",
    "shade( heightPI , weightSeq )"
   ]
  }
 ],
 "metadata": {
  "kernelspec": {
   "display_name": "R",
   "language": "R",
   "name": "ir"
  },
  "language_info": {
   "codemirror_mode": "r",
   "file_extension": ".r",
   "mimetype": "text/x-r-source",
   "name": "R",
   "pygments_lexer": "r",
   "version": "3.6.3"
  }
 },
 "nbformat": 4,
 "nbformat_minor": 4
}
